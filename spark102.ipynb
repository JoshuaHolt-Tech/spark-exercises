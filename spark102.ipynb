{
 "cells": [
  {
   "cell_type": "code",
   "execution_count": 1,
   "id": "fa387865-e7a6-4f01-ae3a-64937dad47a3",
   "metadata": {},
   "outputs": [],
   "source": [
    "import pyspark"
   ]
  },
  {
   "cell_type": "code",
   "execution_count": 32,
   "id": "dc15ff3c-9745-436a-a84b-76c8f3da4695",
   "metadata": {},
   "outputs": [],
   "source": [
    "import pandas as pd\n",
    "import numpy as np\n",
    "from pydataset import data\n",
    "from pyspark.sql.functions import col, expr, lit, regexp_extract, regexp_replace, avg"
   ]
  },
  {
   "cell_type": "code",
   "execution_count": 3,
   "id": "f3522f80-2680-4c2f-a99e-90879713199a",
   "metadata": {},
   "outputs": [
    {
     "name": "stderr",
     "output_type": "stream",
     "text": [
      "Setting default log level to \"WARN\".\n",
      "To adjust logging level use sc.setLogLevel(newLevel). For SparkR, use setLogLevel(newLevel).\n"
     ]
    },
    {
     "name": "stdout",
     "output_type": "stream",
     "text": [
      "23/04/05 12:11:29 WARN NativeCodeLoader: Unable to load native-hadoop library for your platform... using builtin-java classes where applicable\n"
     ]
    }
   ],
   "source": [
    "spark = pyspark.sql.SparkSession.builder.getOrCreate()"
   ]
  },
  {
   "cell_type": "markdown",
   "id": "a69f59d7-b3d3-4dc0-8ee7-6d648d0fea3e",
   "metadata": {
    "tags": []
   },
   "source": [
    "# 1. Create a spark data frame that contains your favorite programming languages.\n",
    "\n",
    "- The name of the column should be language\n",
    "- View the schema of the dataframe\n",
    "- Output the shape of the dataframe\n",
    "- Show the first 5 records in the dataframe"
   ]
  },
  {
   "cell_type": "code",
   "execution_count": 4,
   "id": "6bc0f7fd-fc52-4102-857d-8479ef7c37ad",
   "metadata": {},
   "outputs": [],
   "source": [
    "languages = {\"language\":[\"Python\", \"Java\", \"Ruby\", \"JavaScript\"]}"
   ]
  },
  {
   "cell_type": "code",
   "execution_count": 5,
   "id": "c4bef0da-820b-4ec2-8697-8acd21ba47cf",
   "metadata": {},
   "outputs": [],
   "source": [
    "df = spark.createDataFrame(pd.DataFrame(languages))"
   ]
  },
  {
   "cell_type": "code",
   "execution_count": 6,
   "id": "1ea281e6-cd2c-4101-83af-9c0ee418cdd5",
   "metadata": {},
   "outputs": [],
   "source": [
    "def pyspark_shape(df):\n",
    "    print(f\"{df.count()}, {len(df.columns)}\")"
   ]
  },
  {
   "cell_type": "code",
   "execution_count": 7,
   "id": "6ee055c5-db78-4e4d-96b0-d9401c6f8a49",
   "metadata": {},
   "outputs": [
    {
     "name": "stderr",
     "output_type": "stream",
     "text": [
      "[Stage 0:>                                                          (0 + 4) / 4]\r"
     ]
    },
    {
     "name": "stdout",
     "output_type": "stream",
     "text": [
      "4, 1\n"
     ]
    },
    {
     "name": "stderr",
     "output_type": "stream",
     "text": [
      "                                                                                \r"
     ]
    }
   ],
   "source": [
    "pyspark_shape(df)"
   ]
  },
  {
   "cell_type": "code",
   "execution_count": 8,
   "id": "2def9aab-984e-44c3-9ec9-d887750c5c2a",
   "metadata": {},
   "outputs": [
    {
     "name": "stdout",
     "output_type": "stream",
     "text": [
      "+----------+\n",
      "|  language|\n",
      "+----------+\n",
      "|    Python|\n",
      "|      Java|\n",
      "|      Ruby|\n",
      "|JavaScript|\n",
      "+----------+\n",
      "\n"
     ]
    }
   ],
   "source": [
    "df.show(7)"
   ]
  },
  {
   "cell_type": "markdown",
   "id": "1e8f59ae-28d8-4049-bc32-7c755c43642a",
   "metadata": {},
   "source": [
    "# 2.Load the mpg dataset as a spark dataframe.\n",
    "\n",
    "- Create 1 column of output that contains a message like the one below:\n",
    "\n",
    "\n",
    "`The 1999 audi a4 has a 4 cylinder engine.`\n",
    "For each vehicle."
   ]
  },
  {
   "cell_type": "code",
   "execution_count": 9,
   "id": "217b37b3-33ef-4f15-a167-da8476f96c8a",
   "metadata": {},
   "outputs": [],
   "source": [
    "mpg = spark.createDataFrame(data(\"mpg\"))"
   ]
  },
  {
   "cell_type": "code",
   "execution_count": 10,
   "id": "d7f85b5a-ff55-4388-9fa4-f1684a0fa035",
   "metadata": {},
   "outputs": [
    {
     "data": {
      "text/plain": [
       "(1999, 'audi', 'a4', 4)"
      ]
     },
     "execution_count": 10,
     "metadata": {},
     "output_type": "execute_result"
    }
   ],
   "source": [
    "mpg.first()['year'], mpg.first()['manufacturer'], mpg.first()['model'], mpg.first()['cyl']"
   ]
  },
  {
   "cell_type": "markdown",
   "id": "5745a980-7bc2-4c03-b801-a372789c1c3d",
   "metadata": {},
   "source": [
    "- Transform the trans column so that it only contains either manual or auto."
   ]
  },
  {
   "cell_type": "code",
   "execution_count": 11,
   "id": "ea027cb5-8577-450d-95dc-6680e85ae743",
   "metadata": {},
   "outputs": [
    {
     "name": "stdout",
     "output_type": "stream",
     "text": [
      "+------------+-----+-----+----+---+----------+---+---+---+---+-------+\n",
      "|manufacturer|model|displ|year|cyl|     trans|drv|cty|hwy| fl|  class|\n",
      "+------------+-----+-----+----+---+----------+---+---+---+---+-------+\n",
      "|        audi|   a4|  1.8|1999|  4|  auto(l5)|  f| 18| 29|  p|compact|\n",
      "|        audi|   a4|  1.8|1999|  4|manual(m5)|  f| 21| 29|  p|compact|\n",
      "|        audi|   a4|  2.0|2008|  4|manual(m6)|  f| 20| 31|  p|compact|\n",
      "|        audi|   a4|  2.0|2008|  4|  auto(av)|  f| 21| 30|  p|compact|\n",
      "|        audi|   a4|  2.8|1999|  6|  auto(l5)|  f| 16| 26|  p|compact|\n",
      "+------------+-----+-----+----+---+----------+---+---+---+---+-------+\n",
      "only showing top 5 rows\n",
      "\n"
     ]
    }
   ],
   "source": [
    "mpg.filter((mpg.trans.startswith('m'))|(mpg.trans.startswith('a'))).show(5)"
   ]
  },
  {
   "cell_type": "markdown",
   "id": "8c474b18-ca56-4a02-8094-f59b8040374e",
   "metadata": {},
   "source": [
    "# 3. Load the tips dataset as a spark dataframe."
   ]
  },
  {
   "cell_type": "code",
   "execution_count": 12,
   "id": "2a2aa419-3d04-4ab9-bb5d-c745c0e37545",
   "metadata": {},
   "outputs": [],
   "source": [
    "tips = spark.createDataFrame(data(\"tips\"))"
   ]
  },
  {
   "cell_type": "code",
   "execution_count": 13,
   "id": "e918da7a-24b1-416b-b4bf-0bdcf70188de",
   "metadata": {},
   "outputs": [
    {
     "name": "stdout",
     "output_type": "stream",
     "text": [
      "244, 7\n"
     ]
    }
   ],
   "source": [
    "pyspark_shape(tips)"
   ]
  },
  {
   "cell_type": "markdown",
   "id": "e6158c69-94be-4a5a-aa53-841299f3f633",
   "metadata": {},
   "source": [
    "- What percentage of observations are smokers?"
   ]
  },
  {
   "cell_type": "code",
   "execution_count": 14,
   "id": "24389686-a27a-44a9-b38e-db9c1132b628",
   "metadata": {},
   "outputs": [
    {
     "data": {
      "text/plain": [
       "0.381"
      ]
     },
     "execution_count": 14,
     "metadata": {},
     "output_type": "execute_result"
    }
   ],
   "source": [
    "round(tips.filter(tips.smoker.startswith(\"Y\")).count()/tips.count(),3)"
   ]
  },
  {
   "cell_type": "markdown",
   "id": "2abd6639-024d-4080-962a-de702fc516b0",
   "metadata": {},
   "source": [
    "- Create a column that contains the tip percentage"
   ]
  },
  {
   "cell_type": "code",
   "execution_count": 16,
   "id": "e7e79396-b8a8-4db4-b375-c67c45de6eca",
   "metadata": {},
   "outputs": [],
   "source": [
    "tips = tips.withColumn(\"tip_percentage\", tips.tip/tips.total_bill)"
   ]
  },
  {
   "cell_type": "code",
   "execution_count": 18,
   "id": "7a0af403-797b-4582-ae31-e5829d86a210",
   "metadata": {},
   "outputs": [
    {
     "name": "stdout",
     "output_type": "stream",
     "text": [
      "+----------+----+------+------+---+------+----+-------------------+\n",
      "|total_bill| tip|   sex|smoker|day|  time|size|     tip_percentage|\n",
      "+----------+----+------+------+---+------+----+-------------------+\n",
      "|     16.99|1.01|Female|    No|Sun|Dinner|   2|0.05944673337257211|\n",
      "|     10.34|1.66|  Male|    No|Sun|Dinner|   3|0.16054158607350097|\n",
      "|     21.01| 3.5|  Male|    No|Sun|Dinner|   3|0.16658733936220846|\n",
      "|     23.68|3.31|  Male|    No|Sun|Dinner|   2| 0.1397804054054054|\n",
      "|     24.59|3.61|Female|    No|Sun|Dinner|   4|0.14680764538430255|\n",
      "+----------+----+------+------+---+------+----+-------------------+\n",
      "only showing top 5 rows\n",
      "\n"
     ]
    }
   ],
   "source": [
    "tips.show(5)"
   ]
  },
  {
   "cell_type": "markdown",
   "id": "661a75e2-77ee-4530-af7e-2893a9b502f1",
   "metadata": {},
   "source": [
    "- Calculate the average tip percentage for each combination of sex and smoker."
   ]
  },
  {
   "cell_type": "code",
   "execution_count": 33,
   "id": "ae54bf6d-6e68-4db4-bc39-09638a6cb485",
   "metadata": {},
   "outputs": [
    {
     "data": {
      "text/plain": [
       "[Row(smoker='No', avg(tip_percentage)=0.15932846217921526),\n",
       " Row(smoker='Yes', avg(tip_percentage)=0.16319604463687792)]"
      ]
     },
     "execution_count": 33,
     "metadata": {},
     "output_type": "execute_result"
    }
   ],
   "source": [
    "tips.groupBy(\"smoker\").agg(avg(\"tip_percentage\")).collect()"
   ]
  },
  {
   "cell_type": "code",
   "execution_count": 34,
   "id": "1ae24277-4d39-4497-84f1-756e243235ca",
   "metadata": {},
   "outputs": [
    {
     "data": {
      "text/plain": [
       "[Row(sex='Female', avg(tip_percentage)=0.16649073632892478),\n",
       " Row(sex='Male', avg(tip_percentage)=0.15765054700429743)]"
      ]
     },
     "execution_count": 34,
     "metadata": {},
     "output_type": "execute_result"
    }
   ],
   "source": [
    "tips.groupBy(\"sex\").agg(avg(\"tip_percentage\")).collect()"
   ]
  },
  {
   "cell_type": "code",
   "execution_count": null,
   "id": "019bce54-c90f-4658-9ed4-37e901ca0bc2",
   "metadata": {},
   "outputs": [],
   "source": []
  },
  {
   "cell_type": "markdown",
   "id": "bb3cde09-79a5-4523-91d8-2d09d4821d1b",
   "metadata": {},
   "source": [
    "# 4. Use the seattle weather dataset referenced in the lesson to answer the questions below.\n",
    "\n",
    "- Convert the temperatures to fahrenheit.\n",
    "- Which month has the most rain, on average?\n",
    "- Which year was the windiest?\n",
    "- What is the most frequent type of weather in January?\n",
    "- What is the average high and low temperature on sunny days in July in 2013 and 2014?\n",
    "- What percentage of days were rainy in q3 of 2015?\n",
    "- For each year, find what percentage of days it rained (had non-zero precipitation)."
   ]
  },
  {
   "cell_type": "code",
   "execution_count": null,
   "id": "e700203f-df1f-4833-a0a5-b0472566babb",
   "metadata": {},
   "outputs": [],
   "source": []
  }
 ],
 "metadata": {
  "kernelspec": {
   "display_name": "Python 3 (ipykernel)",
   "language": "python",
   "name": "python3"
  },
  "language_info": {
   "codemirror_mode": {
    "name": "ipython",
    "version": 3
   },
   "file_extension": ".py",
   "mimetype": "text/x-python",
   "name": "python",
   "nbconvert_exporter": "python",
   "pygments_lexer": "ipython3",
   "version": "3.9.15"
  }
 },
 "nbformat": 4,
 "nbformat_minor": 5
}
