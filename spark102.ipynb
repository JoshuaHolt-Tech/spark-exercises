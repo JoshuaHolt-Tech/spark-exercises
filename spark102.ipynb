{
 "cells": [
  {
   "cell_type": "code",
   "execution_count": 1,
   "id": "fa387865-e7a6-4f01-ae3a-64937dad47a3",
   "metadata": {},
   "outputs": [],
   "source": [
    "import pyspark"
   ]
  },
  {
   "cell_type": "code",
   "execution_count": 37,
   "id": "dc15ff3c-9745-436a-a84b-76c8f3da4695",
   "metadata": {},
   "outputs": [],
   "source": [
    "import pandas as pd\n",
    "import numpy as np\n",
    "from pydataset import data\n",
    "from pyspark.sql.functions import col, expr, lit, regexp_extract, regexp_replace, avg, month, sum, max, year"
   ]
  },
  {
   "cell_type": "code",
   "execution_count": 3,
   "id": "f3522f80-2680-4c2f-a99e-90879713199a",
   "metadata": {},
   "outputs": [
    {
     "name": "stderr",
     "output_type": "stream",
     "text": [
      "Setting default log level to \"WARN\".\n",
      "To adjust logging level use sc.setLogLevel(newLevel). For SparkR, use setLogLevel(newLevel).\n"
     ]
    },
    {
     "name": "stdout",
     "output_type": "stream",
     "text": [
      "23/04/06 21:05:44 WARN NativeCodeLoader: Unable to load native-hadoop library for your platform... using builtin-java classes where applicable\n"
     ]
    }
   ],
   "source": [
    "spark = pyspark.sql.SparkSession.builder.getOrCreate()"
   ]
  },
  {
   "cell_type": "markdown",
   "id": "a69f59d7-b3d3-4dc0-8ee7-6d648d0fea3e",
   "metadata": {
    "tags": []
   },
   "source": [
    "# 1. Create a spark data frame that contains your favorite programming languages.\n",
    "\n",
    "- The name of the column should be language\n",
    "- View the schema of the dataframe\n",
    "- Output the shape of the dataframe\n",
    "- Show the first 5 records in the dataframe"
   ]
  },
  {
   "cell_type": "code",
   "execution_count": 4,
   "id": "6bc0f7fd-fc52-4102-857d-8479ef7c37ad",
   "metadata": {},
   "outputs": [],
   "source": [
    "languages = {\"language\":[\"Python\", \"Java\", \"Ruby\", \"JavaScript\"]}"
   ]
  },
  {
   "cell_type": "code",
   "execution_count": 5,
   "id": "c4bef0da-820b-4ec2-8697-8acd21ba47cf",
   "metadata": {},
   "outputs": [],
   "source": [
    "df = spark.createDataFrame(pd.DataFrame(languages))"
   ]
  },
  {
   "cell_type": "code",
   "execution_count": 6,
   "id": "1ea281e6-cd2c-4101-83af-9c0ee418cdd5",
   "metadata": {},
   "outputs": [],
   "source": [
    "def pyspark_shape(df):\n",
    "    print(f\"{df.count()}, {len(df.columns)}\")"
   ]
  },
  {
   "cell_type": "code",
   "execution_count": 7,
   "id": "6ee055c5-db78-4e4d-96b0-d9401c6f8a49",
   "metadata": {},
   "outputs": [
    {
     "name": "stderr",
     "output_type": "stream",
     "text": [
      "[Stage 0:>                                                          (0 + 4) / 4]\r"
     ]
    },
    {
     "name": "stdout",
     "output_type": "stream",
     "text": [
      "4, 1\n"
     ]
    },
    {
     "name": "stderr",
     "output_type": "stream",
     "text": [
      "                                                                                \r"
     ]
    }
   ],
   "source": [
    "pyspark_shape(df)"
   ]
  },
  {
   "cell_type": "code",
   "execution_count": 8,
   "id": "2def9aab-984e-44c3-9ec9-d887750c5c2a",
   "metadata": {},
   "outputs": [
    {
     "name": "stdout",
     "output_type": "stream",
     "text": [
      "+----------+\n",
      "|  language|\n",
      "+----------+\n",
      "|    Python|\n",
      "|      Java|\n",
      "|      Ruby|\n",
      "|JavaScript|\n",
      "+----------+\n",
      "\n"
     ]
    }
   ],
   "source": [
    "df.show(7)"
   ]
  },
  {
   "cell_type": "markdown",
   "id": "1e8f59ae-28d8-4049-bc32-7c755c43642a",
   "metadata": {},
   "source": [
    "# 2.Load the mpg dataset as a spark dataframe.\n",
    "\n",
    "- Create 1 column of output that contains a message like the one below:\n",
    "\n",
    "\n",
    "`The 1999 audi a4 has a 4 cylinder engine.`\n",
    "For each vehicle."
   ]
  },
  {
   "cell_type": "code",
   "execution_count": 9,
   "id": "217b37b3-33ef-4f15-a167-da8476f96c8a",
   "metadata": {},
   "outputs": [],
   "source": [
    "mpg = spark.createDataFrame(data(\"mpg\"))"
   ]
  },
  {
   "cell_type": "code",
   "execution_count": 10,
   "id": "d7f85b5a-ff55-4388-9fa4-f1684a0fa035",
   "metadata": {},
   "outputs": [
    {
     "data": {
      "text/plain": [
       "(1999, 'audi', 'a4', 4)"
      ]
     },
     "execution_count": 10,
     "metadata": {},
     "output_type": "execute_result"
    }
   ],
   "source": [
    "mpg.first()['year'], mpg.first()['manufacturer'], mpg.first()['model'], mpg.first()['cyl']"
   ]
  },
  {
   "cell_type": "markdown",
   "id": "5745a980-7bc2-4c03-b801-a372789c1c3d",
   "metadata": {},
   "source": [
    "- Transform the trans column so that it only contains either manual or auto."
   ]
  },
  {
   "cell_type": "code",
   "execution_count": 11,
   "id": "ea027cb5-8577-450d-95dc-6680e85ae743",
   "metadata": {},
   "outputs": [
    {
     "name": "stdout",
     "output_type": "stream",
     "text": [
      "+------------+-----+-----+----+---+----------+---+---+---+---+-------+\n",
      "|manufacturer|model|displ|year|cyl|     trans|drv|cty|hwy| fl|  class|\n",
      "+------------+-----+-----+----+---+----------+---+---+---+---+-------+\n",
      "|        audi|   a4|  1.8|1999|  4|  auto(l5)|  f| 18| 29|  p|compact|\n",
      "|        audi|   a4|  1.8|1999|  4|manual(m5)|  f| 21| 29|  p|compact|\n",
      "|        audi|   a4|  2.0|2008|  4|manual(m6)|  f| 20| 31|  p|compact|\n",
      "|        audi|   a4|  2.0|2008|  4|  auto(av)|  f| 21| 30|  p|compact|\n",
      "|        audi|   a4|  2.8|1999|  6|  auto(l5)|  f| 16| 26|  p|compact|\n",
      "+------------+-----+-----+----+---+----------+---+---+---+---+-------+\n",
      "only showing top 5 rows\n",
      "\n"
     ]
    }
   ],
   "source": [
    "mpg.filter((mpg.trans.startswith('m'))|(mpg.trans.startswith('a'))).show(5)"
   ]
  },
  {
   "cell_type": "markdown",
   "id": "8c474b18-ca56-4a02-8094-f59b8040374e",
   "metadata": {},
   "source": [
    "# 3. Load the tips dataset as a spark dataframe."
   ]
  },
  {
   "cell_type": "code",
   "execution_count": 12,
   "id": "2a2aa419-3d04-4ab9-bb5d-c745c0e37545",
   "metadata": {},
   "outputs": [],
   "source": [
    "tips = spark.createDataFrame(data(\"tips\"))"
   ]
  },
  {
   "cell_type": "code",
   "execution_count": 13,
   "id": "e918da7a-24b1-416b-b4bf-0bdcf70188de",
   "metadata": {},
   "outputs": [
    {
     "name": "stdout",
     "output_type": "stream",
     "text": [
      "244, 7\n"
     ]
    }
   ],
   "source": [
    "pyspark_shape(tips)"
   ]
  },
  {
   "cell_type": "markdown",
   "id": "e6158c69-94be-4a5a-aa53-841299f3f633",
   "metadata": {},
   "source": [
    "- What percentage of observations are smokers?"
   ]
  },
  {
   "cell_type": "code",
   "execution_count": 14,
   "id": "24389686-a27a-44a9-b38e-db9c1132b628",
   "metadata": {},
   "outputs": [
    {
     "data": {
      "text/plain": [
       "0.381"
      ]
     },
     "execution_count": 14,
     "metadata": {},
     "output_type": "execute_result"
    }
   ],
   "source": [
    "round(tips.filter(tips.smoker.startswith(\"Y\")).count()/tips.count(),3)"
   ]
  },
  {
   "cell_type": "markdown",
   "id": "2abd6639-024d-4080-962a-de702fc516b0",
   "metadata": {},
   "source": [
    "- Create a column that contains the tip percentage"
   ]
  },
  {
   "cell_type": "code",
   "execution_count": 15,
   "id": "e7e79396-b8a8-4db4-b375-c67c45de6eca",
   "metadata": {},
   "outputs": [],
   "source": [
    "tips = tips.withColumn(\"tip_percentage\", tips.tip/tips.total_bill)"
   ]
  },
  {
   "cell_type": "code",
   "execution_count": 16,
   "id": "7a0af403-797b-4582-ae31-e5829d86a210",
   "metadata": {},
   "outputs": [
    {
     "name": "stdout",
     "output_type": "stream",
     "text": [
      "+----------+----+------+------+---+------+----+-------------------+\n",
      "|total_bill| tip|   sex|smoker|day|  time|size|     tip_percentage|\n",
      "+----------+----+------+------+---+------+----+-------------------+\n",
      "|     16.99|1.01|Female|    No|Sun|Dinner|   2|0.05944673337257211|\n",
      "|     10.34|1.66|  Male|    No|Sun|Dinner|   3|0.16054158607350097|\n",
      "|     21.01| 3.5|  Male|    No|Sun|Dinner|   3|0.16658733936220846|\n",
      "|     23.68|3.31|  Male|    No|Sun|Dinner|   2| 0.1397804054054054|\n",
      "|     24.59|3.61|Female|    No|Sun|Dinner|   4|0.14680764538430255|\n",
      "+----------+----+------+------+---+------+----+-------------------+\n",
      "only showing top 5 rows\n",
      "\n"
     ]
    }
   ],
   "source": [
    "tips.show(5)"
   ]
  },
  {
   "cell_type": "markdown",
   "id": "661a75e2-77ee-4530-af7e-2893a9b502f1",
   "metadata": {},
   "source": [
    "- Calculate the average tip percentage for each combination of sex and smoker."
   ]
  },
  {
   "cell_type": "code",
   "execution_count": 17,
   "id": "ae54bf6d-6e68-4db4-bc39-09638a6cb485",
   "metadata": {},
   "outputs": [
    {
     "data": {
      "text/plain": [
       "[Row(smoker='No', avg(tip_percentage)=0.15932846217921526),\n",
       " Row(smoker='Yes', avg(tip_percentage)=0.16319604463687792)]"
      ]
     },
     "execution_count": 17,
     "metadata": {},
     "output_type": "execute_result"
    }
   ],
   "source": [
    "tips.groupBy(\"smoker\").agg(avg(\"tip_percentage\")).collect()"
   ]
  },
  {
   "cell_type": "code",
   "execution_count": 18,
   "id": "1ae24277-4d39-4497-84f1-756e243235ca",
   "metadata": {},
   "outputs": [
    {
     "data": {
      "text/plain": [
       "[Row(sex='Female', avg(tip_percentage)=0.16649073632892478),\n",
       " Row(sex='Male', avg(tip_percentage)=0.15765054700429743)]"
      ]
     },
     "execution_count": 18,
     "metadata": {},
     "output_type": "execute_result"
    }
   ],
   "source": [
    "tips.groupBy(\"sex\").agg(avg(\"tip_percentage\")).collect()"
   ]
  },
  {
   "cell_type": "markdown",
   "id": "4a0a4e5d-469a-4133-861e-bacc85988229",
   "metadata": {},
   "source": [
    "# 4. Use the seattle weather dataset referenced in the lesson to answer the questions below."
   ]
  },
  {
   "cell_type": "code",
   "execution_count": 19,
   "id": "e700203f-df1f-4833-a0a5-b0472566babb",
   "metadata": {},
   "outputs": [],
   "source": [
    "from vega_datasets import data"
   ]
  },
  {
   "cell_type": "code",
   "execution_count": 20,
   "id": "eed41d80-3553-4ceb-bbb9-c8c7ec5110a3",
   "metadata": {},
   "outputs": [
    {
     "name": "stdout",
     "output_type": "stream",
     "text": [
      "+-------------------+-------------+--------+--------+----+-------+----------+\n",
      "|               date|precipitation|temp_max|temp_min|wind|weather|      data|\n",
      "+-------------------+-------------+--------+--------+----+-------+----------+\n",
      "|2012-01-01 00:00:00|          0.0|    12.8|     5.0| 4.7|drizzle|2012-01-01|\n",
      "|2012-01-02 00:00:00|         10.9|    10.6|     2.8| 4.5|   rain|2012-01-02|\n",
      "|2012-01-03 00:00:00|          0.8|    11.7|     7.2| 2.3|   rain|2012-01-03|\n",
      "|2012-01-04 00:00:00|         20.3|    12.2|     5.6| 4.7|   rain|2012-01-04|\n",
      "|2012-01-05 00:00:00|          1.3|     8.9|     2.8| 6.1|   rain|2012-01-05|\n",
      "|2012-01-06 00:00:00|          2.5|     4.4|     2.2| 2.2|   rain|2012-01-06|\n",
      "+-------------------+-------------+--------+--------+----+-------+----------+\n",
      "only showing top 6 rows\n",
      "\n"
     ]
    }
   ],
   "source": [
    "weather = data.seattle_weather().assign(data=lambda df: df.date.astype(str))\n",
    "weather = spark.createDataFrame(weather)\n",
    "weather.show(6)"
   ]
  },
  {
   "cell_type": "markdown",
   "id": "0fc9d475-fca7-44e7-80d3-50fde8c6e8d3",
   "metadata": {},
   "source": [
    "- Convert the temperatures to fahrenheit."
   ]
  },
  {
   "cell_type": "code",
   "execution_count": 21,
   "id": "9e8f523f-7f86-4a0f-b7ba-4058b74dcd5f",
   "metadata": {},
   "outputs": [],
   "source": [
    "weather = weather.withColumn(\"f_temp_max\", (weather.temp_max * 1.8) + 32)"
   ]
  },
  {
   "cell_type": "code",
   "execution_count": 22,
   "id": "67946d58-510f-4250-9132-aa9c75e6acfa",
   "metadata": {},
   "outputs": [],
   "source": [
    "weather = weather.withColumn(\"f_temp_min\", (weather.temp_min * 1.8) + 32)"
   ]
  },
  {
   "cell_type": "code",
   "execution_count": 23,
   "id": "53c12a3e-7dde-4b62-bba2-75d0d0d4038f",
   "metadata": {},
   "outputs": [
    {
     "name": "stdout",
     "output_type": "stream",
     "text": [
      "+-------------------+-------------+--------+--------+----+-------+----------+------------------+----------+\n",
      "|               date|precipitation|temp_max|temp_min|wind|weather|      data|        f_temp_max|f_temp_min|\n",
      "+-------------------+-------------+--------+--------+----+-------+----------+------------------+----------+\n",
      "|2012-01-01 00:00:00|          0.0|    12.8|     5.0| 4.7|drizzle|2012-01-01|55.040000000000006|      41.0|\n",
      "|2012-01-02 00:00:00|         10.9|    10.6|     2.8| 4.5|   rain|2012-01-02|             51.08|     37.04|\n",
      "|2012-01-03 00:00:00|          0.8|    11.7|     7.2| 2.3|   rain|2012-01-03|             53.06|     44.96|\n",
      "|2012-01-04 00:00:00|         20.3|    12.2|     5.6| 4.7|   rain|2012-01-04|             53.96|     42.08|\n",
      "|2012-01-05 00:00:00|          1.3|     8.9|     2.8| 6.1|   rain|2012-01-05|48.019999999999996|     37.04|\n",
      "+-------------------+-------------+--------+--------+----+-------+----------+------------------+----------+\n",
      "only showing top 5 rows\n",
      "\n"
     ]
    }
   ],
   "source": [
    "weather.show(5)"
   ]
  },
  {
   "cell_type": "markdown",
   "id": "dc243f1d-c193-4db8-836c-b3f49542491a",
   "metadata": {},
   "source": [
    "- Which month has the most rain, on average?"
   ]
  },
  {
   "cell_type": "code",
   "execution_count": 47,
   "id": "9a173393-fb67-4696-b93c-f68ea45f02fc",
   "metadata": {},
   "outputs": [
    {
     "name": "stdout",
     "output_type": "stream",
     "text": [
      "+-----+------------------+\n",
      "|month|     precipitation|\n",
      "+-----+------------------+\n",
      "|   12|             622.7|\n",
      "|    1|465.99999999999994|\n",
      "|    6|             132.9|\n",
      "|    3|             606.2|\n",
      "|    5|             207.5|\n",
      "|    9|235.49999999999997|\n",
      "|    4|             375.4|\n",
      "|    8|             163.7|\n",
      "|    7|              48.2|\n",
      "|   10|             503.4|\n",
      "|   11|             642.5|\n",
      "|    2|             422.0|\n",
      "+-----+------------------+\n",
      "\n"
     ]
    }
   ],
   "source": [
    "yr_wind = weather.groupBy(month(\"date\").alias(\"month\")).agg(sum(\"precipitation\").alias(\"precipitation\")).show()"
   ]
  },
  {
   "cell_type": "markdown",
   "id": "d6047316-3b8a-4c09-ae01-f7a1ccaebfed",
   "metadata": {},
   "source": [
    "- Which year was the windiest?"
   ]
  },
  {
   "cell_type": "code",
   "execution_count": 45,
   "id": "2b1f0e11-589c-497c-b603-1fd4f811d60e",
   "metadata": {},
   "outputs": [
    {
     "name": "stdout",
     "output_type": "stream",
     "text": [
      "+----+------------------+\n",
      "|year|              wind|\n",
      "+----+------------------+\n",
      "|2012|1244.6999999999998|\n",
      "|2013|1100.8000000000002|\n",
      "|2014|1236.5000000000005|\n",
      "|2015|            1153.3|\n",
      "+----+------------------+\n",
      "\n"
     ]
    }
   ],
   "source": [
    "yr_wind = weather.groupBy(year(\"date\").alias(\"year\")).agg(sum(\"wind\").alias(\"wind\")).show()"
   ]
  },
  {
   "cell_type": "code",
   "execution_count": null,
   "id": "54e59f80-4118-4342-87cb-3a12423738a0",
   "metadata": {},
   "outputs": [],
   "source": []
  },
  {
   "cell_type": "markdown",
   "id": "e3096890-c0ce-4f3d-b23c-b1e56528758f",
   "metadata": {},
   "source": [
    "- What is the most frequent type of weather in January?"
   ]
  },
  {
   "cell_type": "code",
   "execution_count": null,
   "id": "89668394-1975-454a-be65-f9a40f9ae2ba",
   "metadata": {},
   "outputs": [],
   "source": []
  },
  {
   "cell_type": "markdown",
   "id": "dea852a9-8991-4791-a7e4-d6bd029bce6b",
   "metadata": {},
   "source": [
    "- What is the average high and low temperature on sunny days in July in 2013 and 2014?"
   ]
  },
  {
   "cell_type": "code",
   "execution_count": null,
   "id": "12be4e65-4ca5-403c-a7f5-f604cb4f9784",
   "metadata": {},
   "outputs": [],
   "source": []
  },
  {
   "cell_type": "markdown",
   "id": "5611b78f-d614-42e4-9b64-867fe9402784",
   "metadata": {},
   "source": [
    "- What percentage of days were rainy in q3 of 2015?"
   ]
  },
  {
   "cell_type": "code",
   "execution_count": null,
   "id": "93a51efb-e4e7-4476-aec3-fffe179a3272",
   "metadata": {},
   "outputs": [],
   "source": []
  },
  {
   "cell_type": "markdown",
   "id": "14559792-a6ca-4e2c-9fdd-66bb222c3372",
   "metadata": {},
   "source": [
    "- For each year, find what percentage of days it rained (had non-zero precipitation)."
   ]
  },
  {
   "cell_type": "code",
   "execution_count": null,
   "id": "649b8d58-6948-4c23-9581-5db0e826a503",
   "metadata": {},
   "outputs": [],
   "source": []
  }
 ],
 "metadata": {
  "kernelspec": {
   "display_name": "Python 3 (ipykernel)",
   "language": "python",
   "name": "python3"
  },
  "language_info": {
   "codemirror_mode": {
    "name": "ipython",
    "version": 3
   },
   "file_extension": ".py",
   "mimetype": "text/x-python",
   "name": "python",
   "nbconvert_exporter": "python",
   "pygments_lexer": "ipython3",
   "version": "3.9.15"
  }
 },
 "nbformat": 4,
 "nbformat_minor": 5
}
