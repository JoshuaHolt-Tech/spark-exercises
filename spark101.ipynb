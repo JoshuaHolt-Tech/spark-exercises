{
 "cells": [
  {
   "cell_type": "code",
   "execution_count": 1,
   "id": "8172ac1e-d94c-40cc-887a-ee4ff23a458e",
   "metadata": {},
   "outputs": [],
   "source": [
    "import pandas as pd\n",
    "import numpy as np\n",
    "from pydataset import data\n",
    "\n",
    "import pyspark\n",
    "#Ways to create columns\n",
    "from pyspark.sql.functions import col, expr\n",
    "#String\n",
    "from pyspark.sql.functions import lit #String lit\n",
    "#String manipulation\n",
    "from pyspark.sql.functions import regexp_extract, regexp_replace"
   ]
  },
  {
   "cell_type": "code",
   "execution_count": 2,
   "id": "33bcd433-cda1-4335-bc64-e78593c6e57b",
   "metadata": {
    "tags": []
   },
   "outputs": [
    {
     "name": "stderr",
     "output_type": "stream",
     "text": [
      "Setting default log level to \"WARN\".\n",
      "To adjust logging level use sc.setLogLevel(newLevel). For SparkR, use setLogLevel(newLevel).\n"
     ]
    },
    {
     "name": "stdout",
     "output_type": "stream",
     "text": [
      "23/03/09 18:04:24 WARN NativeCodeLoader: Unable to load native-hadoop library for your platform... using builtin-java classes where applicable\n"
     ]
    }
   ],
   "source": [
    "spark = pyspark.sql.SparkSession.builder.getOrCreate()"
   ]
  },
  {
   "cell_type": "markdown",
   "id": "9f038a8b-491b-4317-afff-6e6abae8ad65",
   "metadata": {},
   "source": [
    "# 1. Create a spark data frame that contains your favorite programming languages.\n",
    "\n",
    "- The name of the column should be language\n",
    "- View the schema of the dataframe\n",
    "- Output the shape of the dataframe\n",
    "- Show the first 5 records in the dataframe"
   ]
  },
  {
   "cell_type": "code",
   "execution_count": 3,
   "id": "ba13f66c-1d69-45ab-b7a1-31f378b0c1f9",
   "metadata": {},
   "outputs": [],
   "source": [
    "fav_languages = {\"language\":[\"Python\", \"Java\", \"Ruby\", \"JavaScript\", \"R\", \"C\", \"C++\"]}"
   ]
  },
  {
   "cell_type": "code",
   "execution_count": 4,
   "id": "f4fc3523-74ff-420e-b66d-ba3b06b495f2",
   "metadata": {},
   "outputs": [],
   "source": [
    "df = pd.DataFrame(fav_languages)"
   ]
  },
  {
   "cell_type": "code",
   "execution_count": 5,
   "id": "8e4c133e-70ea-4f95-ba75-3438a3eb8033",
   "metadata": {},
   "outputs": [
    {
     "data": {
      "text/plain": [
       "(7, 1)"
      ]
     },
     "execution_count": 5,
     "metadata": {},
     "output_type": "execute_result"
    }
   ],
   "source": [
    "df.shape"
   ]
  },
  {
   "cell_type": "code",
   "execution_count": 6,
   "id": "cba6f20f-8d84-4d74-86a5-585d7cdf22cd",
   "metadata": {},
   "outputs": [],
   "source": [
    "df = spark.createDataFrame(df)"
   ]
  },
  {
   "cell_type": "code",
   "execution_count": 7,
   "id": "c292b856-571d-490a-9a34-a3d13a298985",
   "metadata": {},
   "outputs": [
    {
     "name": "stderr",
     "output_type": "stream",
     "text": [
      "[Stage 0:>                                                          (0 + 1) / 1]\r"
     ]
    },
    {
     "name": "stdout",
     "output_type": "stream",
     "text": [
      "+----------+\n",
      "|  language|\n",
      "+----------+\n",
      "|    Python|\n",
      "|      Java|\n",
      "|      Ruby|\n",
      "|JavaScript|\n",
      "|         R|\n",
      "+----------+\n",
      "only showing top 5 rows\n",
      "\n"
     ]
    },
    {
     "name": "stderr",
     "output_type": "stream",
     "text": [
      "                                                                                \r"
     ]
    }
   ],
   "source": [
    "df.show(5)"
   ]
  },
  {
   "cell_type": "markdown",
   "id": "e52320b6-8c9a-4475-8110-270338787651",
   "metadata": {},
   "source": [
    "# 2.Load the mpg dataset as a spark dataframe.\n",
    "\n",
    "- Create 1 column of output that contains a message like the one below:\n",
    "\n",
    "\n",
    "`The 1999 audi a4 has a 4 cylinder engine.`\n",
    "For each vehicle."
   ]
  },
  {
   "cell_type": "code",
   "execution_count": 8,
   "id": "2f114f1c-11b6-4c57-a132-340bec9e591f",
   "metadata": {},
   "outputs": [],
   "source": [
    "mpg = spark.createDataFrame(data(\"mpg\"))"
   ]
  },
  {
   "cell_type": "code",
   "execution_count": 9,
   "id": "6a9f52ce-5133-4b2f-b5fa-446a954e5697",
   "metadata": {},
   "outputs": [
    {
     "name": "stdout",
     "output_type": "stream",
     "text": [
      "The 1999 audi a4 has a 4 cylinder engine.\n"
     ]
    }
   ],
   "source": [
    "#Print the first line\n",
    "print(f\"The {mpg.first()['year']} {mpg.first()['manufacturer']} {mpg.first()['model']} has a {mpg.first()['cyl']} cylinder engine.\")"
   ]
  },
  {
   "cell_type": "code",
   "execution_count": 10,
   "id": "11f9ec9b-2d76-417f-8acc-03b03f4ad5be",
   "metadata": {
    "tags": []
   },
   "outputs": [
    {
     "name": "stdout",
     "output_type": "stream",
     "text": [
      "The 1999 audi a4 has a 4 cylinder engine.\n",
      "The 1999 audi a4 has a 4 cylinder engine.\n",
      "The 2008 audi a4 has a 4 cylinder engine.\n",
      "The 2008 audi a4 has a 4 cylinder engine.\n",
      "The 1999 audi a4 has a 6 cylinder engine.\n",
      "The 1999 audi a4 has a 6 cylinder engine.\n",
      "The 2008 audi a4 has a 6 cylinder engine.\n",
      "The 1999 audi a4 quattro has a 4 cylinder engine.\n",
      "The 1999 audi a4 quattro has a 4 cylinder engine.\n",
      "The 2008 audi a4 quattro has a 4 cylinder engine.\n",
      "The 2008 audi a4 quattro has a 4 cylinder engine.\n",
      "The 1999 audi a4 quattro has a 6 cylinder engine.\n",
      "The 1999 audi a4 quattro has a 6 cylinder engine.\n",
      "The 2008 audi a4 quattro has a 6 cylinder engine.\n",
      "The 2008 audi a4 quattro has a 6 cylinder engine.\n",
      "The 1999 audi a6 quattro has a 6 cylinder engine.\n",
      "The 2008 audi a6 quattro has a 6 cylinder engine.\n",
      "The 2008 audi a6 quattro has a 8 cylinder engine.\n",
      "The 2008 chevrolet c1500 suburban 2wd has a 8 cylinder engine.\n",
      "The 2008 chevrolet c1500 suburban 2wd has a 8 cylinder engine.\n",
      "The 2008 chevrolet c1500 suburban 2wd has a 8 cylinder engine.\n",
      "The 1999 chevrolet c1500 suburban 2wd has a 8 cylinder engine.\n",
      "The 2008 chevrolet c1500 suburban 2wd has a 8 cylinder engine.\n",
      "The 1999 chevrolet corvette has a 8 cylinder engine.\n",
      "The 1999 chevrolet corvette has a 8 cylinder engine.\n",
      "The 2008 chevrolet corvette has a 8 cylinder engine.\n",
      "The 2008 chevrolet corvette has a 8 cylinder engine.\n",
      "The 2008 chevrolet corvette has a 8 cylinder engine.\n",
      "The 2008 chevrolet k1500 tahoe 4wd has a 8 cylinder engine.\n",
      "The 2008 chevrolet k1500 tahoe 4wd has a 8 cylinder engine.\n",
      "The 1999 chevrolet k1500 tahoe 4wd has a 8 cylinder engine.\n",
      "The 1999 chevrolet k1500 tahoe 4wd has a 8 cylinder engine.\n",
      "The 1999 chevrolet malibu has a 4 cylinder engine.\n",
      "The 2008 chevrolet malibu has a 4 cylinder engine.\n",
      "The 1999 chevrolet malibu has a 6 cylinder engine.\n",
      "The 2008 chevrolet malibu has a 6 cylinder engine.\n",
      "The 2008 chevrolet malibu has a 6 cylinder engine.\n",
      "The 1999 dodge caravan 2wd has a 4 cylinder engine.\n",
      "The 1999 dodge caravan 2wd has a 6 cylinder engine.\n",
      "The 1999 dodge caravan 2wd has a 6 cylinder engine.\n",
      "The 1999 dodge caravan 2wd has a 6 cylinder engine.\n",
      "The 2008 dodge caravan 2wd has a 6 cylinder engine.\n",
      "The 2008 dodge caravan 2wd has a 6 cylinder engine.\n",
      "The 2008 dodge caravan 2wd has a 6 cylinder engine.\n",
      "The 1999 dodge caravan 2wd has a 6 cylinder engine.\n",
      "The 1999 dodge caravan 2wd has a 6 cylinder engine.\n",
      "The 2008 dodge caravan 2wd has a 6 cylinder engine.\n",
      "The 2008 dodge caravan 2wd has a 6 cylinder engine.\n",
      "The 2008 dodge dakota pickup 4wd has a 6 cylinder engine.\n",
      "The 2008 dodge dakota pickup 4wd has a 6 cylinder engine.\n",
      "The 1999 dodge dakota pickup 4wd has a 6 cylinder engine.\n",
      "The 1999 dodge dakota pickup 4wd has a 6 cylinder engine.\n",
      "The 2008 dodge dakota pickup 4wd has a 8 cylinder engine.\n",
      "The 2008 dodge dakota pickup 4wd has a 8 cylinder engine.\n",
      "The 2008 dodge dakota pickup 4wd has a 8 cylinder engine.\n",
      "The 1999 dodge dakota pickup 4wd has a 8 cylinder engine.\n",
      "The 1999 dodge dakota pickup 4wd has a 8 cylinder engine.\n",
      "The 1999 dodge durango 4wd has a 6 cylinder engine.\n",
      "The 2008 dodge durango 4wd has a 8 cylinder engine.\n",
      "The 2008 dodge durango 4wd has a 8 cylinder engine.\n",
      "The 2008 dodge durango 4wd has a 8 cylinder engine.\n",
      "The 1999 dodge durango 4wd has a 8 cylinder engine.\n",
      "The 2008 dodge durango 4wd has a 8 cylinder engine.\n",
      "The 1999 dodge durango 4wd has a 8 cylinder engine.\n",
      "The 2008 dodge ram 1500 pickup 4wd has a 8 cylinder engine.\n",
      "The 2008 dodge ram 1500 pickup 4wd has a 8 cylinder engine.\n",
      "The 2008 dodge ram 1500 pickup 4wd has a 8 cylinder engine.\n",
      "The 2008 dodge ram 1500 pickup 4wd has a 8 cylinder engine.\n",
      "The 2008 dodge ram 1500 pickup 4wd has a 8 cylinder engine.\n",
      "The 2008 dodge ram 1500 pickup 4wd has a 8 cylinder engine.\n",
      "The 1999 dodge ram 1500 pickup 4wd has a 8 cylinder engine.\n",
      "The 1999 dodge ram 1500 pickup 4wd has a 8 cylinder engine.\n",
      "The 2008 dodge ram 1500 pickup 4wd has a 8 cylinder engine.\n",
      "The 1999 dodge ram 1500 pickup 4wd has a 8 cylinder engine.\n",
      "The 1999 ford expedition 2wd has a 8 cylinder engine.\n",
      "The 1999 ford expedition 2wd has a 8 cylinder engine.\n",
      "The 2008 ford expedition 2wd has a 8 cylinder engine.\n",
      "The 1999 ford explorer 4wd has a 6 cylinder engine.\n",
      "The 1999 ford explorer 4wd has a 6 cylinder engine.\n",
      "The 1999 ford explorer 4wd has a 6 cylinder engine.\n",
      "The 2008 ford explorer 4wd has a 6 cylinder engine.\n",
      "The 2008 ford explorer 4wd has a 8 cylinder engine.\n",
      "The 1999 ford explorer 4wd has a 8 cylinder engine.\n",
      "The 1999 ford f150 pickup 4wd has a 6 cylinder engine.\n",
      "The 1999 ford f150 pickup 4wd has a 6 cylinder engine.\n",
      "The 1999 ford f150 pickup 4wd has a 8 cylinder engine.\n",
      "The 1999 ford f150 pickup 4wd has a 8 cylinder engine.\n",
      "The 2008 ford f150 pickup 4wd has a 8 cylinder engine.\n",
      "The 1999 ford f150 pickup 4wd has a 8 cylinder engine.\n",
      "The 2008 ford f150 pickup 4wd has a 8 cylinder engine.\n",
      "The 1999 ford mustang has a 6 cylinder engine.\n",
      "The 1999 ford mustang has a 6 cylinder engine.\n",
      "The 2008 ford mustang has a 6 cylinder engine.\n",
      "The 2008 ford mustang has a 6 cylinder engine.\n",
      "The 1999 ford mustang has a 8 cylinder engine.\n",
      "The 1999 ford mustang has a 8 cylinder engine.\n",
      "The 2008 ford mustang has a 8 cylinder engine.\n",
      "The 2008 ford mustang has a 8 cylinder engine.\n",
      "The 2008 ford mustang has a 8 cylinder engine.\n",
      "The 1999 honda civic has a 4 cylinder engine.\n",
      "The 1999 honda civic has a 4 cylinder engine.\n",
      "The 1999 honda civic has a 4 cylinder engine.\n",
      "The 1999 honda civic has a 4 cylinder engine.\n",
      "The 1999 honda civic has a 4 cylinder engine.\n",
      "The 2008 honda civic has a 4 cylinder engine.\n",
      "The 2008 honda civic has a 4 cylinder engine.\n",
      "The 2008 honda civic has a 4 cylinder engine.\n",
      "The 2008 honda civic has a 4 cylinder engine.\n",
      "The 1999 hyundai sonata has a 4 cylinder engine.\n",
      "The 1999 hyundai sonata has a 4 cylinder engine.\n",
      "The 2008 hyundai sonata has a 4 cylinder engine.\n",
      "The 2008 hyundai sonata has a 4 cylinder engine.\n",
      "The 1999 hyundai sonata has a 6 cylinder engine.\n",
      "The 1999 hyundai sonata has a 6 cylinder engine.\n",
      "The 2008 hyundai sonata has a 6 cylinder engine.\n",
      "The 1999 hyundai tiburon has a 4 cylinder engine.\n",
      "The 1999 hyundai tiburon has a 4 cylinder engine.\n",
      "The 2008 hyundai tiburon has a 4 cylinder engine.\n",
      "The 2008 hyundai tiburon has a 4 cylinder engine.\n",
      "The 2008 hyundai tiburon has a 6 cylinder engine.\n",
      "The 2008 hyundai tiburon has a 6 cylinder engine.\n",
      "The 2008 hyundai tiburon has a 6 cylinder engine.\n",
      "The 2008 jeep grand cherokee 4wd has a 6 cylinder engine.\n",
      "The 2008 jeep grand cherokee 4wd has a 6 cylinder engine.\n",
      "The 1999 jeep grand cherokee 4wd has a 6 cylinder engine.\n",
      "The 1999 jeep grand cherokee 4wd has a 8 cylinder engine.\n",
      "The 2008 jeep grand cherokee 4wd has a 8 cylinder engine.\n",
      "The 2008 jeep grand cherokee 4wd has a 8 cylinder engine.\n",
      "The 2008 jeep grand cherokee 4wd has a 8 cylinder engine.\n",
      "The 2008 jeep grand cherokee 4wd has a 8 cylinder engine.\n",
      "The 1999 land rover range rover has a 8 cylinder engine.\n",
      "The 2008 land rover range rover has a 8 cylinder engine.\n",
      "The 2008 land rover range rover has a 8 cylinder engine.\n",
      "The 1999 land rover range rover has a 8 cylinder engine.\n",
      "The 1999 lincoln navigator 2wd has a 8 cylinder engine.\n",
      "The 1999 lincoln navigator 2wd has a 8 cylinder engine.\n",
      "The 2008 lincoln navigator 2wd has a 8 cylinder engine.\n",
      "The 1999 mercury mountaineer 4wd has a 6 cylinder engine.\n",
      "The 2008 mercury mountaineer 4wd has a 6 cylinder engine.\n",
      "The 2008 mercury mountaineer 4wd has a 8 cylinder engine.\n",
      "The 1999 mercury mountaineer 4wd has a 8 cylinder engine.\n",
      "The 1999 nissan altima has a 4 cylinder engine.\n",
      "The 1999 nissan altima has a 4 cylinder engine.\n",
      "The 2008 nissan altima has a 4 cylinder engine.\n",
      "The 2008 nissan altima has a 4 cylinder engine.\n",
      "The 2008 nissan altima has a 6 cylinder engine.\n",
      "The 2008 nissan altima has a 6 cylinder engine.\n",
      "The 1999 nissan maxima has a 6 cylinder engine.\n",
      "The 1999 nissan maxima has a 6 cylinder engine.\n",
      "The 2008 nissan maxima has a 6 cylinder engine.\n",
      "The 1999 nissan pathfinder 4wd has a 6 cylinder engine.\n",
      "The 1999 nissan pathfinder 4wd has a 6 cylinder engine.\n",
      "The 2008 nissan pathfinder 4wd has a 6 cylinder engine.\n",
      "The 2008 nissan pathfinder 4wd has a 8 cylinder engine.\n",
      "The 1999 pontiac grand prix has a 6 cylinder engine.\n",
      "The 1999 pontiac grand prix has a 6 cylinder engine.\n",
      "The 1999 pontiac grand prix has a 6 cylinder engine.\n",
      "The 2008 pontiac grand prix has a 6 cylinder engine.\n",
      "The 2008 pontiac grand prix has a 8 cylinder engine.\n",
      "The 1999 subaru forester awd has a 4 cylinder engine.\n",
      "The 1999 subaru forester awd has a 4 cylinder engine.\n",
      "The 2008 subaru forester awd has a 4 cylinder engine.\n",
      "The 2008 subaru forester awd has a 4 cylinder engine.\n",
      "The 2008 subaru forester awd has a 4 cylinder engine.\n",
      "The 2008 subaru forester awd has a 4 cylinder engine.\n",
      "The 1999 subaru impreza awd has a 4 cylinder engine.\n",
      "The 1999 subaru impreza awd has a 4 cylinder engine.\n",
      "The 1999 subaru impreza awd has a 4 cylinder engine.\n",
      "The 1999 subaru impreza awd has a 4 cylinder engine.\n",
      "The 2008 subaru impreza awd has a 4 cylinder engine.\n",
      "The 2008 subaru impreza awd has a 4 cylinder engine.\n",
      "The 2008 subaru impreza awd has a 4 cylinder engine.\n",
      "The 2008 subaru impreza awd has a 4 cylinder engine.\n",
      "The 1999 toyota 4runner 4wd has a 4 cylinder engine.\n",
      "The 1999 toyota 4runner 4wd has a 4 cylinder engine.\n",
      "The 1999 toyota 4runner 4wd has a 6 cylinder engine.\n",
      "The 1999 toyota 4runner 4wd has a 6 cylinder engine.\n",
      "The 2008 toyota 4runner 4wd has a 6 cylinder engine.\n",
      "The 2008 toyota 4runner 4wd has a 8 cylinder engine.\n",
      "The 1999 toyota camry has a 4 cylinder engine.\n",
      "The 1999 toyota camry has a 4 cylinder engine.\n",
      "The 2008 toyota camry has a 4 cylinder engine.\n",
      "The 2008 toyota camry has a 4 cylinder engine.\n",
      "The 1999 toyota camry has a 6 cylinder engine.\n",
      "The 1999 toyota camry has a 6 cylinder engine.\n",
      "The 2008 toyota camry has a 6 cylinder engine.\n",
      "The 1999 toyota camry solara has a 4 cylinder engine.\n",
      "The 1999 toyota camry solara has a 4 cylinder engine.\n",
      "The 2008 toyota camry solara has a 4 cylinder engine.\n",
      "The 2008 toyota camry solara has a 4 cylinder engine.\n",
      "The 1999 toyota camry solara has a 6 cylinder engine.\n",
      "The 1999 toyota camry solara has a 6 cylinder engine.\n",
      "The 2008 toyota camry solara has a 6 cylinder engine.\n",
      "The 1999 toyota corolla has a 4 cylinder engine.\n",
      "The 1999 toyota corolla has a 4 cylinder engine.\n",
      "The 1999 toyota corolla has a 4 cylinder engine.\n",
      "The 2008 toyota corolla has a 4 cylinder engine.\n",
      "The 2008 toyota corolla has a 4 cylinder engine.\n",
      "The 1999 toyota land cruiser wagon 4wd has a 8 cylinder engine.\n",
      "The 2008 toyota land cruiser wagon 4wd has a 8 cylinder engine.\n",
      "The 1999 toyota toyota tacoma 4wd has a 4 cylinder engine.\n",
      "The 1999 toyota toyota tacoma 4wd has a 4 cylinder engine.\n",
      "The 2008 toyota toyota tacoma 4wd has a 4 cylinder engine.\n",
      "The 1999 toyota toyota tacoma 4wd has a 6 cylinder engine.\n",
      "The 1999 toyota toyota tacoma 4wd has a 6 cylinder engine.\n",
      "The 2008 toyota toyota tacoma 4wd has a 6 cylinder engine.\n",
      "The 2008 toyota toyota tacoma 4wd has a 6 cylinder engine.\n",
      "The 1999 volkswagen gti has a 4 cylinder engine.\n",
      "The 1999 volkswagen gti has a 4 cylinder engine.\n",
      "The 2008 volkswagen gti has a 4 cylinder engine.\n",
      "The 2008 volkswagen gti has a 4 cylinder engine.\n",
      "The 1999 volkswagen gti has a 6 cylinder engine.\n",
      "The 1999 volkswagen jetta has a 4 cylinder engine.\n",
      "The 1999 volkswagen jetta has a 4 cylinder engine.\n",
      "The 1999 volkswagen jetta has a 4 cylinder engine.\n",
      "The 2008 volkswagen jetta has a 4 cylinder engine.\n",
      "The 2008 volkswagen jetta has a 4 cylinder engine.\n",
      "The 2008 volkswagen jetta has a 5 cylinder engine.\n",
      "The 2008 volkswagen jetta has a 5 cylinder engine.\n",
      "The 1999 volkswagen jetta has a 6 cylinder engine.\n",
      "The 1999 volkswagen jetta has a 6 cylinder engine.\n",
      "The 1999 volkswagen new beetle has a 4 cylinder engine.\n",
      "The 1999 volkswagen new beetle has a 4 cylinder engine.\n",
      "The 1999 volkswagen new beetle has a 4 cylinder engine.\n",
      "The 1999 volkswagen new beetle has a 4 cylinder engine.\n",
      "The 2008 volkswagen new beetle has a 5 cylinder engine.\n",
      "The 2008 volkswagen new beetle has a 5 cylinder engine.\n",
      "The 1999 volkswagen passat has a 4 cylinder engine.\n",
      "The 1999 volkswagen passat has a 4 cylinder engine.\n",
      "The 2008 volkswagen passat has a 4 cylinder engine.\n",
      "The 2008 volkswagen passat has a 4 cylinder engine.\n",
      "The 1999 volkswagen passat has a 6 cylinder engine.\n",
      "The 1999 volkswagen passat has a 6 cylinder engine.\n",
      "The 2008 volkswagen passat has a 6 cylinder engine.\n"
     ]
    }
   ],
   "source": [
    "#Another technique\n",
    "row_looped = mpg.select(\"year\", \"manufacturer\", \"model\", \"cyl\" ).collect()\n",
    "for rows in row_looped:\n",
    "    print(f\"The {rows[0]} {rows[1]} {rows[2]} has a {rows[3]} cylinder engine.\")"
   ]
  },
  {
   "cell_type": "code",
   "execution_count": 11,
   "id": "0fb40241-daab-47d0-ad11-e51f962ddcf1",
   "metadata": {},
   "outputs": [
    {
     "name": "stdout",
     "output_type": "stream",
     "text": [
      "+----+------------+-----+---+\n",
      "|year|manufacturer|model|cyl|\n",
      "+----+------------+-----+---+\n",
      "|1999|        audi|   a4|  4|\n",
      "+----+------------+-----+---+\n",
      "only showing top 1 row\n",
      "\n"
     ]
    }
   ],
   "source": [
    "mpg.select(mpg.year, mpg.manufacturer, mpg.model, mpg.cyl).show(1)"
   ]
  },
  {
   "cell_type": "markdown",
   "id": "ca385042-e7e9-4a20-aa1c-699b9ae23c67",
   "metadata": {},
   "source": [
    "- Transform the trans column so that it only contains either manual or auto."
   ]
  },
  {
   "cell_type": "code",
   "execution_count": 12,
   "id": "9523572f-bb27-4d82-92ba-3cd674e4b0d4",
   "metadata": {},
   "outputs": [
    {
     "name": "stdout",
     "output_type": "stream",
     "text": [
      "+------------+----------+-----+----+---+----------+---+---+---+---+-------+\n",
      "|manufacturer|     model|displ|year|cyl|     trans|drv|cty|hwy| fl|  class|\n",
      "+------------+----------+-----+----+---+----------+---+---+---+---+-------+\n",
      "|        audi|        a4|  1.8|1999|  4|manual(m5)|  f| 21| 29|  p|compact|\n",
      "|        audi|        a4|  2.0|2008|  4|manual(m6)|  f| 20| 31|  p|compact|\n",
      "|        audi|        a4|  2.8|1999|  6|manual(m5)|  f| 18| 26|  p|compact|\n",
      "|        audi|a4 quattro|  1.8|1999|  4|manual(m5)|  4| 18| 26|  p|compact|\n",
      "|        audi|a4 quattro|  2.0|2008|  4|manual(m6)|  4| 20| 28|  p|compact|\n",
      "+------------+----------+-----+----+---+----------+---+---+---+---+-------+\n",
      "only showing top 5 rows\n",
      "\n"
     ]
    }
   ],
   "source": [
    "mpg.filter(mpg.trans.startswith('m')).show(5)"
   ]
  },
  {
   "cell_type": "markdown",
   "id": "37cc2d32-f4b8-48c2-a79b-e516eab4bb6b",
   "metadata": {},
   "source": [
    "3. Load the tips dataset as a spark dataframe.\n",
    "\n",
    "- What percentage of observations are smokers?\n",
    "- Create a column that contains the tip percentage\n",
    "- Calculate the average tip percentage for each combination of sex and smoker."
   ]
  },
  {
   "cell_type": "code",
   "execution_count": 13,
   "id": "1fc3637f-3e38-48ad-b945-41f5cb520ac0",
   "metadata": {},
   "outputs": [],
   "source": [
    "tips = spark.createDataFrame(data(\"tips\"))"
   ]
  },
  {
   "cell_type": "code",
   "execution_count": 18,
   "id": "8388c378-f9cf-4e13-86a2-7700e79ca6a3",
   "metadata": {},
   "outputs": [
    {
     "name": "stdout",
     "output_type": "stream",
     "text": [
      "+----------+----+------+------+---+------+----+\n",
      "|total_bill| tip|   sex|smoker|day|  time|size|\n",
      "+----------+----+------+------+---+------+----+\n",
      "|     16.99|1.01|Female|    No|Sun|Dinner|   2|\n",
      "|     10.34|1.66|  Male|    No|Sun|Dinner|   3|\n",
      "|     21.01| 3.5|  Male|    No|Sun|Dinner|   3|\n",
      "|     23.68|3.31|  Male|    No|Sun|Dinner|   2|\n",
      "|     24.59|3.61|Female|    No|Sun|Dinner|   4|\n",
      "+----------+----+------+------+---+------+----+\n",
      "only showing top 5 rows\n",
      "\n"
     ]
    }
   ],
   "source": [
    "tips.show(5)"
   ]
  },
  {
   "cell_type": "code",
   "execution_count": 24,
   "id": "cead8860-afa5-4886-8219-54ca98799be2",
   "metadata": {},
   "outputs": [
    {
     "data": {
      "text/plain": [
       "93"
      ]
     },
     "execution_count": 24,
     "metadata": {},
     "output_type": "execute_result"
    }
   ],
   "source": [
    "tips.filter(tips.smoker.startswith(\"Y\")).count()"
   ]
  },
  {
   "cell_type": "code",
   "execution_count": null,
   "id": "7e1d18c2-ca12-48ac-baa5-b7b5099bad4b",
   "metadata": {},
   "outputs": [],
   "source": []
  },
  {
   "cell_type": "markdown",
   "id": "445ad03d-7b99-4c68-b22b-269757721487",
   "metadata": {},
   "source": [
    "4. Use the seattle weather dataset referenced in the lesson to answer the questions below.\n",
    "\n",
    "- Convert the temperatures to fahrenheit.\n",
    "- Which month has the most rain, on average?\n",
    "- Which year was the windiest?\n",
    "- What is the most frequent type of weather in January?\n",
    "- What is the average high and low temperature on sunny days in July in 2013 and 2014?\n",
    "- What percentage of days were rainy in q3 of 2015?\n",
    "- For each year, find what percentage of days it rained (had non-zero precipitation)."
   ]
  }
 ],
 "metadata": {
  "kernelspec": {
   "display_name": "Python 3 (ipykernel)",
   "language": "python",
   "name": "python3"
  },
  "language_info": {
   "codemirror_mode": {
    "name": "ipython",
    "version": 3
   },
   "file_extension": ".py",
   "mimetype": "text/x-python",
   "name": "python",
   "nbconvert_exporter": "python",
   "pygments_lexer": "ipython3",
   "version": "3.9.15"
  }
 },
 "nbformat": 4,
 "nbformat_minor": 5
}
